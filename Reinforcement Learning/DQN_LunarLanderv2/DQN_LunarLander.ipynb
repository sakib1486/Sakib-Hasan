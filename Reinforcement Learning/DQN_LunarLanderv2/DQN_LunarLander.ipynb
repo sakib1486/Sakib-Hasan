{
  "nbformat": 4,
  "nbformat_minor": 0,
  "metadata": {
    "colab": {
      "name": "DQN_LunarLander.ipynb",
      "provenance": [],
      "toc_visible": true
    },
    "kernelspec": {
      "name": "python3",
      "display_name": "Python 3"
    }
  },
  "cells": [
    {
      "cell_type": "code",
      "metadata": {
        "id": "khuBVxvJFRYb",
        "colab_type": "code",
        "outputId": "5326a596-9f1d-429b-d5aa-3971e2d59438",
        "colab": {
          "base_uri": "https://localhost:8080/",
          "height": 582
        }
      },
      "source": [
        "!apt install swig cmake libopenmpi-dev zlib1g-dev\n",
        "!pip install stable-baselines[mpi]==2.10.0 box2d box2d-kengz"
      ],
      "execution_count": 0,
      "outputs": [
        {
          "output_type": "stream",
          "text": [
            "Reading package lists... Done\n",
            "Building dependency tree       \n",
            "Reading state information... Done\n",
            "zlib1g-dev is already the newest version (1:1.2.11.dfsg-0ubuntu2).\n",
            "libopenmpi-dev is already the newest version (2.1.1-8).\n",
            "swig is already the newest version (3.0.12-1).\n",
            "cmake is already the newest version (3.10.2-1ubuntu2.18.04.1).\n",
            "0 upgraded, 0 newly installed, 0 to remove and 31 not upgraded.\n",
            "Requirement already satisfied: stable-baselines[mpi]==2.10.0 in /usr/local/lib/python3.6/dist-packages (2.10.0)\n",
            "Requirement already satisfied: box2d in /usr/local/lib/python3.6/dist-packages (2.3.10)\n",
            "Requirement already satisfied: box2d-kengz in /usr/local/lib/python3.6/dist-packages (2.3.3)\n",
            "Requirement already satisfied: scipy in /usr/local/lib/python3.6/dist-packages (from stable-baselines[mpi]==2.10.0) (1.4.1)\n",
            "Requirement already satisfied: opencv-python in /usr/local/lib/python3.6/dist-packages (from stable-baselines[mpi]==2.10.0) (4.1.2.30)\n",
            "Requirement already satisfied: pandas in /usr/local/lib/python3.6/dist-packages (from stable-baselines[mpi]==2.10.0) (1.0.3)\n",
            "Requirement already satisfied: cloudpickle>=0.5.5 in /usr/local/lib/python3.6/dist-packages (from stable-baselines[mpi]==2.10.0) (1.3.0)\n",
            "Requirement already satisfied: joblib in /usr/local/lib/python3.6/dist-packages (from stable-baselines[mpi]==2.10.0) (0.15.1)\n",
            "Requirement already satisfied: matplotlib in /usr/local/lib/python3.6/dist-packages (from stable-baselines[mpi]==2.10.0) (3.2.1)\n",
            "Requirement already satisfied: gym[atari,classic_control]>=0.11 in /usr/local/lib/python3.6/dist-packages (from stable-baselines[mpi]==2.10.0) (0.17.2)\n",
            "Requirement already satisfied: numpy in /usr/local/lib/python3.6/dist-packages (from stable-baselines[mpi]==2.10.0) (1.18.4)\n",
            "Requirement already satisfied: mpi4py; extra == \"mpi\" in /usr/local/lib/python3.6/dist-packages (from stable-baselines[mpi]==2.10.0) (3.0.3)\n",
            "Requirement already satisfied: pytz>=2017.2 in /usr/local/lib/python3.6/dist-packages (from pandas->stable-baselines[mpi]==2.10.0) (2018.9)\n",
            "Requirement already satisfied: python-dateutil>=2.6.1 in /usr/local/lib/python3.6/dist-packages (from pandas->stable-baselines[mpi]==2.10.0) (2.8.1)\n",
            "Requirement already satisfied: cycler>=0.10 in /usr/local/lib/python3.6/dist-packages (from matplotlib->stable-baselines[mpi]==2.10.0) (0.10.0)\n",
            "Requirement already satisfied: kiwisolver>=1.0.1 in /usr/local/lib/python3.6/dist-packages (from matplotlib->stable-baselines[mpi]==2.10.0) (1.2.0)\n",
            "Requirement already satisfied: pyparsing!=2.0.4,!=2.1.2,!=2.1.6,>=2.0.1 in /usr/local/lib/python3.6/dist-packages (from matplotlib->stable-baselines[mpi]==2.10.0) (2.4.7)\n",
            "Requirement already satisfied: pyglet<=1.5.0,>=1.4.0 in /usr/local/lib/python3.6/dist-packages (from gym[atari,classic_control]>=0.11->stable-baselines[mpi]==2.10.0) (1.5.0)\n",
            "Requirement already satisfied: Pillow; extra == \"atari\" in /usr/local/lib/python3.6/dist-packages (from gym[atari,classic_control]>=0.11->stable-baselines[mpi]==2.10.0) (7.0.0)\n",
            "Requirement already satisfied: atari-py~=0.2.0; extra == \"atari\" in /usr/local/lib/python3.6/dist-packages (from gym[atari,classic_control]>=0.11->stable-baselines[mpi]==2.10.0) (0.2.6)\n",
            "Requirement already satisfied: six>=1.5 in /usr/local/lib/python3.6/dist-packages (from python-dateutil>=2.6.1->pandas->stable-baselines[mpi]==2.10.0) (1.12.0)\n",
            "Requirement already satisfied: future in /usr/local/lib/python3.6/dist-packages (from pyglet<=1.5.0,>=1.4.0->gym[atari,classic_control]>=0.11->stable-baselines[mpi]==2.10.0) (0.16.0)\n"
          ],
          "name": "stdout"
        }
      ]
    },
    {
      "cell_type": "code",
      "metadata": {
        "id": "9_qLsdT8FfVT",
        "colab_type": "code",
        "colab": {}
      },
      "source": [
        "import random\n",
        "import sys\n",
        "from time import time\n",
        "from collections import deque, defaultdict, namedtuple\n",
        "import numpy as np\n",
        "import pandas as pd\n",
        "import gym\n",
        "import torch\n",
        "import torch.nn as nn\n",
        "import torch.nn.functional as F\n",
        "import torch.optim as optim\n",
        "\n",
        "import matplotlib.pyplot as plt\n",
        "from google.colab import drive \n",
        "%matplotlib inline\n",
        "\n",
        "plt.style.use('seaborn')"
      ],
      "execution_count": 0,
      "outputs": []
    },
    {
      "cell_type": "code",
      "metadata": {
        "id": "7G8HbZN6Fs4w",
        "colab_type": "code",
        "colab": {}
      },
      "source": [
        "#drive.mount(\"/content/gdrive\") "
      ],
      "execution_count": 0,
      "outputs": []
    },
    {
      "cell_type": "code",
      "metadata": {
        "id": "8NtUm3nuF5JU",
        "colab_type": "code",
        "outputId": "f6c6f523-0445-4949-b536-164e9cdb4886",
        "colab": {
          "base_uri": "https://localhost:8080/",
          "height": 53
        }
      },
      "source": [
        "env = gym.make('LunarLander-v2')\n",
        "env.seed(0)\n",
        "print(env.action_space)\n",
        "print(env.observation_space)"
      ],
      "execution_count": 0,
      "outputs": [
        {
          "output_type": "stream",
          "text": [
            "Discrete(4)\n",
            "Box(8,)\n"
          ],
          "name": "stdout"
        }
      ]
    },
    {
      "cell_type": "code",
      "metadata": {
        "id": "E-rOoudnF9A1",
        "colab_type": "code",
        "colab": {}
      },
      "source": [
        "device = torch.device('cuda:0' if torch.cuda.is_available() else 'cpu')"
      ],
      "execution_count": 0,
      "outputs": []
    },
    {
      "cell_type": "code",
      "metadata": {
        "id": "BPhkDFxpGE_5",
        "colab_type": "code",
        "colab": {}
      },
      "source": [
        "class DQN(nn.Module):\n",
        "    def __init__(self, state_size,fc1_size,fc2_size, action_size, seed):\n",
        "        super(DQN, self).__init__()\n",
        "        self.seed = torch.manual_seed(seed)\n",
        "        self.fc1 = nn.Linear(state_size, fc1_size)\n",
        "        self.fc2 = nn.Linear(fc1_size, fc2_size)\n",
        "        self.fc3 = nn.Linear(fc2_size, action_size)  \n",
        "        \n",
        "    def forward(self, x):\n",
        "        x = F.relu(self.fc1(x))\n",
        "        x = F.relu(self.fc2(x))\n",
        "        x = self.fc3(x)\n",
        "        \n",
        "        return x  "
      ],
      "execution_count": 0,
      "outputs": []
    },
    {
      "cell_type": "code",
      "metadata": {
        "id": "ymcEfwgSGJlt",
        "colab_type": "code",
        "colab": {}
      },
      "source": [
        "class ReplayMemory:\n",
        "    def __init__(self, buffer_size, batch_size, seed):\n",
        "        self.batch_size = batch_size\n",
        "        self.seed = random.seed(seed)\n",
        "        self.memory = deque(maxlen=buffer_size)\n",
        "        self.experience = namedtuple(\"Experience\", field_names=[\"state\", \"action\", \"reward\", \"next_state\", \"done\"])\n",
        "    \n",
        "    def add_experience(self, state, action, reward, next_state, done):\n",
        "        experience = self.experience(state, action, reward, next_state, done)\n",
        "        self.memory.append(experience)\n",
        "                \n",
        "    def sample(self):\n",
        "        experiences = random.sample(self.memory, k=self.batch_size)\n",
        "        \n",
        "        states = torch.from_numpy(np.vstack([experience.state for experience in experiences if experience is not None])).float().to(device)\n",
        "        actions = torch.from_numpy(np.vstack([experience.action for experience in experiences if experience is not None])).long().to(device)        \n",
        "        rewards = torch.from_numpy(np.vstack([experience.reward for experience in experiences if experience is not None])).float().to(device)        \n",
        "        next_states = torch.from_numpy(np.vstack([experience.next_state for experience in experiences if experience is not None])).float().to(device)  \n",
        "        dones = torch.from_numpy(np.vstack([experience.done for experience in experiences if experience is not None]).astype(np.uint8)).float().to(device)        \n",
        "        \n",
        "        return (states, actions, rewards, next_states, dones)\n",
        "        \n",
        "    def __len__(self):\n",
        "        return len(self.memory)"
      ],
      "execution_count": 0,
      "outputs": []
    },
    {
      "cell_type": "code",
      "metadata": {
        "id": "NsJUGcieGMVA",
        "colab_type": "code",
        "colab": {}
      },
      "source": [
        "BUFFER_SIZE = int(1e5)\n",
        "BATCH_SIZE = 64       \n",
        "GAMMA = 0.99         \n",
        "TAU = 1e-3              \n",
        "LR = 1e-4            \n",
        "UPDATE_EVERY = 4       "
      ],
      "execution_count": 0,
      "outputs": []
    },
    {
      "cell_type": "code",
      "metadata": {
        "id": "k80FmvH4GOqJ",
        "colab_type": "code",
        "colab": {}
      },
      "source": [
        "class DQAgent:\n",
        "    def __init__(self, state_size,fc1_size,fc2_size, action_size, seed):\n",
        "        self.state_size = state_size\n",
        "        self.action_size = action_size\n",
        "        self.seed = random.seed(seed)\n",
        "\n",
        "        self.q_network = DQN(state_size,fc1_size,fc2_size, action_size, seed).to(device)\n",
        "        self.target_network = DQN(state_size,fc1_size,fc2_size, action_size, seed).to(device)\n",
        "        self.optimizer = optim.Adam(self.q_network.parameters())\n",
        "\n",
        "        self.memory = ReplayMemory(BUFFER_SIZE, BATCH_SIZE, seed)\n",
        "        self.timestep = 0\n",
        "        \n",
        "    def step(self, state, action, reward, next_state, done):\n",
        "        self.memory.add_experience(state, action, reward, next_state, done)\n",
        "        self.timestep += 1\n",
        "        if self.timestep % UPDATE_EVERY == 0:\n",
        "            if len(self.memory) > BATCH_SIZE:\n",
        "                sampled_experiences = self.memory.sample()\n",
        "                self.learn(sampled_experiences)\n",
        "        \n",
        "    def learn(self, experiences):\n",
        "        states, actions, rewards, next_states, dones = experiences\n",
        "        action_values = self.target_network(next_states).detach()\n",
        "        max_action_values = action_values.max(1)[0].unsqueeze(1)\n",
        "        \n",
        "        Q_target = rewards + (GAMMA * max_action_values * (1 - dones))\n",
        "        Q_output = self.q_network(states).gather(1, actions)\n",
        "        \n",
        "        loss = F.mse_loss(Q_output, Q_target)\n",
        "        self.optimizer.zero_grad()\n",
        "\n",
        "        loss.backward()\n",
        "        self.optimizer.step()\n",
        "        self.update_target_network(self.q_network, self.target_network)\n",
        "        \n",
        "    def update_target_network(self, q_network, target_network):\n",
        "        for source_parameters, target_parameters in zip(q_network.parameters(), target_network.parameters()):\n",
        "            target_parameters.data.copy_(TAU * source_parameters.data + (1.0 - TAU) * target_parameters.data)\n",
        "        \n",
        "        \n",
        "    def act(self, state, eps=0.0):\n",
        "        rnd = random.random()\n",
        "        if rnd < eps:\n",
        "            return np.random.randint(self.action_size)\n",
        "        else:\n",
        "            state = torch.from_numpy(state).float().unsqueeze(0).to(device)\n",
        "\n",
        "            self.q_network.eval()\n",
        "            with torch.no_grad():\n",
        "                action_values = self.q_network(state)\n",
        "\n",
        "            self.q_network.train()\n",
        "            action = np.argmax(action_values.cpu().data.numpy())\n",
        "            return action    \n",
        "        \n",
        "    def checkpoint(self, filename):\n",
        "        torch.save(self.q_network.state_dict(), filename)"
      ],
      "execution_count": 0,
      "outputs": []
    },
    {
      "cell_type": "code",
      "metadata": {
        "id": "ksDkokfrGV1w",
        "colab_type": "code",
        "colab": {}
      },
      "source": [
        "FC1_SIZE = 128\n",
        "FC2_SIZE = 256   \n",
        "    \n",
        "MAX_EPISODES = 1000  \n",
        "MAX_STEPS = 1000     \n",
        "ENV_SOLVED = 200    \n",
        "PRINT_EVERY = 100    \n",
        "\n",
        "EPS_START = 1.0    \n",
        "EPS_DECAY = 0.999    \n",
        "EPS_MIN = 0.01"
      ],
      "execution_count": 0,
      "outputs": []
    },
    {
      "cell_type": "code",
      "metadata": {
        "id": "2KD-1AwuGY75",
        "colab_type": "code",
        "outputId": "c87a8b97-8ac2-4684-d97c-450f6aa6019a",
        "colab": {
          "base_uri": "https://localhost:8080/",
          "height": 35
        }
      },
      "source": [
        "state_size = env.observation_space.shape[0]\n",
        "action_size = env.action_space.n\n",
        "\n",
        "print('State size: {}, action size: {}'.format(state_size, action_size))"
      ],
      "execution_count": 0,
      "outputs": [
        {
          "output_type": "stream",
          "text": [
            "State size: 8, action size: 4\n"
          ],
          "name": "stdout"
        }
      ]
    },
    {
      "cell_type": "code",
      "metadata": {
        "id": "FdnLJ9OeGaz4",
        "colab_type": "code",
        "colab": {}
      },
      "source": [
        "dqn_agent = DQAgent(state_size,FC1_SIZE,FC2_SIZE, action_size, seed=0)"
      ],
      "execution_count": 0,
      "outputs": []
    },
    {
      "cell_type": "code",
      "metadata": {
        "id": "RNv6-f5UGc6C",
        "colab_type": "code",
        "outputId": "94367fdd-73d2-4ea9-ec0d-1932cbefd745",
        "colab": {
          "base_uri": "https://localhost:8080/",
          "height": 35
        }
      },
      "source": [
        "start = time()\n",
        "scores = []\n",
        "\n",
        "scores_window = deque(maxlen=100)\n",
        "eps = EPS_START\n",
        "for episode in range(1, MAX_EPISODES + 1):\n",
        "    state = env.reset()\n",
        "    score = 0\n",
        "    for t in range(MAX_STEPS):\n",
        "        action = dqn_agent.act(state, eps)\n",
        "        next_state, reward, done, info = env.step(action)\n",
        "        dqn_agent.step(state, action, reward, next_state, done)\n",
        "        state = next_state        \n",
        "        score += reward        \n",
        "        if done:\n",
        "            break\n",
        "            \n",
        "        eps = max(eps * EPS_DECAY, EPS_MIN)\n",
        "        if episode % PRINT_EVERY == 0:\n",
        "            mean_score = np.mean(scores_window)\n",
        "            print('\\r Progress {}/{}, average score:{:.2f}'.format(episode, MAX_EPISODES, mean_score), end=\"\")\n",
        "        if score >= ENV_SOLVED:\n",
        "            mean_score = np.mean(scores_window)\n",
        "            print('\\rEnvironment solved in {} episodes, average score: {:.2f}'.format(episode, mean_score), end=\"\")\n",
        "            sys.stdout.flush()\n",
        "            dqn_agent.checkpoint('solved_200.pth')\n",
        "            break\n",
        "            \n",
        "    scores_window.append(score)\n",
        "    scores.append(score)\n",
        "    \n",
        "end = time()    \n",
        "print('Took {} seconds'.format(end - start))"
      ],
      "execution_count": 30,
      "outputs": [
        {
          "output_type": "stream",
          "text": [
            " Progress 1000/1000, average score:232.02Took 1895.1126458644867 seconds\n"
          ],
          "name": "stdout"
        }
      ]
    },
    {
      "cell_type": "code",
      "metadata": {
        "id": "H82RcBq4GfYI",
        "colab_type": "code",
        "outputId": "2ce0be30-7452-414d-81a1-4d5ba8777b69",
        "colab": {
          "base_uri": "https://localhost:8080/",
          "height": 403
        }
      },
      "source": [
        "plt.figure(figsize=(10,6))\n",
        "plt.plot(scores)\n",
        "\n",
        "plt.plot(pd.Series(scores).rolling(100).mean())\n",
        "plt.title('DQN Training')\n",
        "plt.xlabel('# of episodes')\n",
        "plt.ylabel('score')\n",
        "plt.show()\n"
      ],
      "execution_count": 0,
      "outputs": [
        {
          "output_type": "display_data",
          "data": {
            "image/png": "[encoded data removed]",
            "text/plain": [
              "<Figure size 720x432 with 1 Axes>"
            ]
          },
          "metadata": {
            "tags": []
          }
        }
      ]
    },
    {
      "cell_type": "code",
      "metadata": {
        "id": "p8lCYqnVGiYj",
        "colab_type": "code",
        "outputId": "1b49344c-c89c-4a21-f292-a1ef3de0e65a",
        "colab": {
          "base_uri": "https://localhost:8080/",
          "height": 35
        }
      },
      "source": [
        "from gym import wrappers\n",
        "if env:\n",
        "  env.close()\n",
        "env = gym.make('LunarLander-v2')\n",
        "env.seed(0)"
      ],
      "execution_count": 0,
      "outputs": [
        {
          "output_type": "execute_result",
          "data": {
            "text/plain": [
              "[0]"
            ]
          },
          "metadata": {
            "tags": []
          },
          "execution_count": 15
        }
      ]
    },
    {
      "cell_type": "code",
      "metadata": {
        "id": "2lB1RbYIGlKa",
        "colab_type": "code",
        "outputId": "c40022f8-a009-4383-adc3-b4e32a4d3c89",
        "colab": {
          "base_uri": "https://localhost:8080/",
          "height": 199
        }
      },
      "source": [
        "for i in range(10):\n",
        "    score = 0\n",
        "    state = env.reset()\n",
        "    while True:\n",
        "        action = dqn_agent.act(state)\n",
        "        next_state, reward, done, info = env.step(action)\n",
        "        state = next_state        \n",
        "        score += reward        \n",
        "        if done:\n",
        "            break\n",
        "    print('episode: {} scored {}'.format(i, score))"
      ],
      "execution_count": 0,
      "outputs": [
        {
          "output_type": "stream",
          "text": [
            "episode: 0 scored 78.49983500380723\n",
            "episode: 1 scored 117.7227372482282\n",
            "episode: 2 scored 250.16418248924958\n",
            "episode: 3 scored -74.05579306673451\n",
            "episode: 4 scored -332.87351895773077\n",
            "episode: 5 scored 292.18202348222115\n",
            "episode: 6 scored -73.11589576111624\n",
            "episode: 7 scored -88.78280356409601\n",
            "episode: 8 scored 190.68371744041613\n",
            "episode: 9 scored 272.7209546237983\n"
          ],
          "name": "stdout"
        }
      ]
    },
    {
      "cell_type": "code",
      "metadata": {
        "id": "G1Wk3byCGoSI",
        "colab_type": "code",
        "colab": {}
      },
      "source": [
        "env.close()"
      ],
      "execution_count": 0,
      "outputs": []
    }
  ]
}